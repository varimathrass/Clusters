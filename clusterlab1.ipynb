{
 "cells": [
  {
   "cell_type": "code",
   "execution_count": 93,
   "metadata": {},
   "outputs": [],
   "source": [
    "import numpy as np\n",
    "import math\n",
    "import scipy.spatial"
   ]
  },
  {
   "cell_type": "code",
   "execution_count": 94,
   "metadata": {},
   "outputs": [],
   "source": [
    "cut = \"%.2f\""
   ]
  },
  {
   "cell_type": "code",
   "execution_count": 95,
   "metadata": {},
   "outputs": [],
   "source": [
    "def get_random_vector(lenght):\n",
    "    return np.random.randint(-30, 31, lenght)"
   ]
  },
  {
   "cell_type": "code",
   "execution_count": 96,
   "metadata": {},
   "outputs": [],
   "source": [
    "def get_random_array(rows, cols):\n",
    "    return [get_random_vector(cols) for row in range(rows)]"
   ]
  },
  {
   "cell_type": "code",
   "execution_count": 97,
   "metadata": {},
   "outputs": [],
   "source": [
    "def euclidean(x, y):\n",
    "    return scipy.spatial.distance.euclidean(x, y)"
   ]
  },
  {
   "cell_type": "code",
   "execution_count": 98,
   "metadata": {},
   "outputs": [],
   "source": [
    "def minkowsky(x, y, p):\n",
    "    return scipy.spatial.distance.minkowski(x,y,p)"
   ]
  },
  {
   "cell_type": "code",
   "execution_count": 99,
   "metadata": {},
   "outputs": [],
   "source": [
    "def mahalanobis(x, y, W):\n",
    "    return scipy.spatial.distance.mahalanobis(x, y, W)"
   ]
  },
  {
   "cell_type": "code",
   "execution_count": 100,
   "metadata": {},
   "outputs": [],
   "source": [
    "def pearson(x, y):\n",
    "    return scipy.spatial.distance.correlation(x, y)"
   ]
  },
  {
   "cell_type": "code",
   "execution_count": 101,
   "metadata": {},
   "outputs": [],
   "source": [
    "def hamming(x, y):\n",
    "    return scipy.spatial.distance.hamming(x, y)"
   ]
  },
  {
   "cell_type": "code",
   "execution_count": 102,
   "metadata": {},
   "outputs": [
    {
     "name": "stdout",
     "output_type": "stream",
     "text": [
      "17.05872210923198\n",
      "17.05872210923198\n",
      "17.05872210923198\n",
      "0.2593693342578769\n",
      "1.0\n"
     ]
    }
   ],
   "source": [
    "c = [12, -6, -8, 17, 18]\n",
    "f = [13, 6, -7, 5, 19]\n",
    "t = [1, 16, 10, 10, 17]\n",
    "s = [2, -17, 12, 3, -20]\n",
    "d = [c, f, t, s]\n",
    "W = [\n",
    "        [1,0,0,0,0],\n",
    "        [0,1,0,0,0],\n",
    "        [0,0,1,0,0],\n",
    "        [0,0,0,1,0],\n",
    "        [0,0,0,0,1],\n",
    "    ]\n",
    "\n",
    "print(euclidean(c, f))\n",
    "print(minkowsky(c, f, 2.0))\n",
    "print(mahalanobis(c, f, W))\n",
    "print(pearson(c, f))\n",
    "print(hamming(c, f))"
   ]
  },
  {
   "cell_type": "code",
   "execution_count": 103,
   "metadata": {},
   "outputs": [],
   "source": [
    "def get_distance(array, method):\n",
    "\n",
    "    result = []\n",
    "    \n",
    "    for i in range(len(array)):\n",
    "        result.append([])\n",
    "        for j in range(len(array)):\n",
    "            result[i].append(0)\n",
    "            if method == 1:\n",
    "                result[i][j] = euclidean(array[i], array[j])\n",
    "            if method == 2:\n",
    "                result[i][j] = minkowsky(array[i], array[j], 2)\n",
    "            if method == 3:\n",
    "                vectorW = [\n",
    "                    [1, 0, 0, 0, 0],\n",
    "                    [0, 1, 0, 0, 0],\n",
    "                    [0, 0, 1, 0, 0],\n",
    "                    [0, 0, 0, 1, 0],\n",
    "                    [0, 0, 0, 0, 1],\n",
    "                ]\n",
    "                result[i][j] = mahalanobis(array[i], array[j], vectorW)\n",
    "            if method == 4:\n",
    "                result[i][j] = pearson(array[i], array[j])\n",
    "            if method == 5:\n",
    "                result[i][j] = hamming(array[i], array[j])\n",
    "    \n",
    "    return result"
   ]
  },
  {
   "cell_type": "code",
   "execution_count": 104,
   "metadata": {},
   "outputs": [
    {
     "data": {
      "text/plain": [
       "[[0, 0, 0, 0], [0, 0, 0, 0], [0, 0, 0, 0], [0, 0, 0, 0]]"
      ]
     },
     "execution_count": 104,
     "metadata": {},
     "output_type": "execute_result"
    }
   ],
   "source": [
    "\n",
    "get_distance(d, \"s\")"
   ]
  },
  {
   "cell_type": "code",
   "execution_count": 105,
   "metadata": {},
   "outputs": [],
   "source": [
    "import plotly.plotly as py\n",
    "import plotly.graph_objs as go\n",
    "import plotly.offline as plo"
   ]
  },
  {
   "cell_type": "code",
   "execution_count": 106,
   "metadata": {},
   "outputs": [],
   "source": [
    "def draw_dots(vectorX, vectorY):\n",
    "    trace = go.Scatter(\n",
    "        x = vectorX,\n",
    "        y = vectorY,\n",
    "        name = 'task3',\n",
    "        mode = 'markers',\n",
    "        marker = dict(\n",
    "            size = 10,\n",
    "            color = 'rgba(244, 65, 178.8)',\n",
    "            line = dict(\n",
    "                width = 2,\n",
    "                color = 'rgb(0, 0, 0)'\n",
    "            )\n",
    "        )\n",
    "    )\n",
    "\n",
    "    data = [trace]\n",
    "\n",
    "    layout = dict(title = 'Styled Scatter',\n",
    "            yaxis = dict(zeroline = False),\n",
    "            xaxis = dict(zeroline = False)\n",
    "        )\n",
    "\n",
    "    plo.init_notebook_mode(connected=True)\n",
    "    plo.iplot({\n",
    "        \"data\": [trace],\n",
    "        \"layout\": go.Layout(title=\"Task #3\")\n",
    "    })"
   ]
  },
  {
   "cell_type": "code",
   "execution_count": 107,
   "metadata": {},
   "outputs": [],
   "source": [
    "def get_vector(array, col):\n",
    "    return [array[i][col] for i in range(len(array))]"
   ]
  },
  {
   "cell_type": "code",
   "execution_count": 108,
   "metadata": {},
   "outputs": [],
   "source": [
    "def task3(array2, method):\n",
    "    draw_dots(get_vector(array2, 0), get_vector(array2, 1))\n",
    "    return get_distance(array2, method)"
   ]
  },
  {
   "cell_type": "code",
   "execution_count": 109,
   "metadata": {},
   "outputs": [
    {
     "data": {
      "text/plain": [
       "[array([11, 13]),\n",
       " array([-29,   9]),\n",
       " array([-7,  8]),\n",
       " array([-20, -29]),\n",
       " array([-25, -30]),\n",
       " array([-3, 29]),\n",
       " array([-3, 21]),\n",
       " array([ 1, 23]),\n",
       " array([-14,  23]),\n",
       " array([ 20, -22])]"
      ]
     },
     "execution_count": 109,
     "metadata": {},
     "output_type": "execute_result"
    }
   ],
   "source": [
    "array = get_random_array(10, 2)\n",
    "array"
   ]
  },
  {
   "cell_type": "code",
   "execution_count": 110,
   "metadata": {},
   "outputs": [
    {
     "data": {
      "text/html": [
       "<script type=\"text/javascript\">window.PlotlyConfig = {MathJaxConfig: 'local'};</script><script type=\"text/javascript\">if (window.MathJax) {MathJax.Hub.Config({SVG: {font: \"STIX-Web\"}});}</script><script>requirejs.config({paths: { 'plotly': ['https://cdn.plot.ly/plotly-latest.min']},});if(!window._Plotly) {require(['plotly'],function(plotly) {window._Plotly=plotly;});}</script>"
      ],
      "text/vnd.plotly.v1+html": [
       "<script type=\"text/javascript\">window.PlotlyConfig = {MathJaxConfig: 'local'};</script><script type=\"text/javascript\">if (window.MathJax) {MathJax.Hub.Config({SVG: {font: \"STIX-Web\"}});}</script><script>requirejs.config({paths: { 'plotly': ['https://cdn.plot.ly/plotly-latest.min']},});if(!window._Plotly) {require(['plotly'],function(plotly) {window._Plotly=plotly;});}</script>"
      ]
     },
     "metadata": {},
     "output_type": "display_data"
    },
    {
     "data": {
      "application/vnd.plotly.v1+json": {
       "config": {
        "linkText": "Export to plot.ly",
        "plotlyServerURL": "https://plot.ly",
        "showLink": true
       },
       "data": [
        {
         "marker": {
          "color": "rgba(244, 65, 178.8)",
          "line": {
           "color": "rgb(0, 0, 0)",
           "width": 2
          },
          "size": 10
         },
         "mode": "markers",
         "name": "task3",
         "type": "scatter",
         "uid": "7bba6a2c-0620-42b5-8f48-b776a488a8f2",
         "x": [
          11,
          -29,
          -7,
          -20,
          -25,
          -3,
          -3,
          1,
          -14,
          20
         ],
         "y": [
          13,
          9,
          8,
          -29,
          -30,
          29,
          21,
          23,
          23,
          -22
         ]
        }
       ],
       "layout": {
        "title": "Task #3"
       }
      },
      "text/html": [
       "<div id=\"efe366d0-91d3-4231-bca8-b3900e442a46\" style=\"height: 525px; width: 100%;\" class=\"plotly-graph-div\"></div><script type=\"text/javascript\">require([\"plotly\"], function(Plotly) { window.PLOTLYENV=window.PLOTLYENV || {};window.PLOTLYENV.BASE_URL=\"https://plot.ly\";Plotly.newPlot(\"efe366d0-91d3-4231-bca8-b3900e442a46\", [{\"marker\": {\"color\": \"rgba(244, 65, 178.8)\", \"line\": {\"color\": \"rgb(0, 0, 0)\", \"width\": 2}, \"size\": 10}, \"mode\": \"markers\", \"name\": \"task3\", \"x\": [11, -29, -7, -20, -25, -3, -3, 1, -14, 20], \"y\": [13, 9, 8, -29, -30, 29, 21, 23, 23, -22], \"type\": \"scatter\", \"uid\": \"041127bb-9cea-4fcc-a613-2b050f10f8f4\"}], {\"title\": \"Task #3\"}, {\"showLink\": true, \"linkText\": \"Export to plot.ly\", \"plotlyServerURL\": \"https://plot.ly\"})});</script><script type=\"text/javascript\">window.addEventListener(\"resize\", function(){window._Plotly.Plots.resize(document.getElementById(\"efe366d0-91d3-4231-bca8-b3900e442a46\"));});</script>"
      ],
      "text/vnd.plotly.v1+html": [
       "<div id=\"efe366d0-91d3-4231-bca8-b3900e442a46\" style=\"height: 525px; width: 100%;\" class=\"plotly-graph-div\"></div><script type=\"text/javascript\">require([\"plotly\"], function(Plotly) { window.PLOTLYENV=window.PLOTLYENV || {};window.PLOTLYENV.BASE_URL=\"https://plot.ly\";Plotly.newPlot(\"efe366d0-91d3-4231-bca8-b3900e442a46\", [{\"marker\": {\"color\": \"rgba(244, 65, 178.8)\", \"line\": {\"color\": \"rgb(0, 0, 0)\", \"width\": 2}, \"size\": 10}, \"mode\": \"markers\", \"name\": \"task3\", \"x\": [11, -29, -7, -20, -25, -3, -3, 1, -14, 20], \"y\": [13, 9, 8, -29, -30, 29, 21, 23, 23, -22], \"type\": \"scatter\", \"uid\": \"041127bb-9cea-4fcc-a613-2b050f10f8f4\"}], {\"title\": \"Task #3\"}, {\"showLink\": true, \"linkText\": \"Export to plot.ly\", \"plotlyServerURL\": \"https://plot.ly\"})});</script><script type=\"text/javascript\">window.addEventListener(\"resize\", function(){window._Plotly.Plots.resize(document.getElementById(\"efe366d0-91d3-4231-bca8-b3900e442a46\"));});</script>"
      ]
     },
     "metadata": {},
     "output_type": "display_data"
    }
   ],
   "source": [
    "res = task3(array, 1)"
   ]
  },
  {
   "cell_type": "code",
   "execution_count": 111,
   "metadata": {},
   "outputs": [
    {
     "data": {
      "text/plain": [
       "[[0.0,\n",
       "  40.19950248448356,\n",
       "  18.681541692269406,\n",
       "  52.20153254455275,\n",
       "  56.08029957123981,\n",
       "  21.2602916254693,\n",
       "  16.1245154965971,\n",
       "  14.142135623730951,\n",
       "  26.92582403567252,\n",
       "  36.138621999185304],\n",
       " [40.19950248448356,\n",
       "  0.0,\n",
       "  22.02271554554524,\n",
       "  39.05124837953327,\n",
       "  39.20459156782532,\n",
       "  32.802438933713454,\n",
       "  28.635642126552707,\n",
       "  33.1058907144937,\n",
       "  20.518284528683193,\n",
       "  57.982756057296896],\n",
       " [18.681541692269406,\n",
       "  22.02271554554524,\n",
       "  0.0,\n",
       "  39.21734310225516,\n",
       "  42.04759208325728,\n",
       "  21.37755832643195,\n",
       "  13.601470508735444,\n",
       "  17.0,\n",
       "  16.55294535724685,\n",
       "  40.36087214122113],\n",
       " [52.20153254455275,\n",
       "  39.05124837953327,\n",
       "  39.21734310225516,\n",
       "  0.0,\n",
       "  5.0990195135927845,\n",
       "  60.440052945046304,\n",
       "  52.81098370604357,\n",
       "  56.08029957123981,\n",
       "  52.3450093132096,\n",
       "  40.607881008493905],\n",
       " [56.08029957123981,\n",
       "  39.20459156782532,\n",
       "  42.04759208325728,\n",
       "  5.0990195135927845,\n",
       "  0.0,\n",
       "  62.96824596572466,\n",
       "  55.54277630799526,\n",
       "  59.033888572581766,\n",
       "  54.12947441089743,\n",
       "  45.70557952810576],\n",
       " [21.2602916254693,\n",
       "  32.802438933713454,\n",
       "  21.37755832643195,\n",
       "  60.440052945046304,\n",
       "  62.96824596572466,\n",
       "  0.0,\n",
       "  8.0,\n",
       "  7.211102550927978,\n",
       "  12.529964086141668,\n",
       "  55.94640292279746],\n",
       " [16.1245154965971,\n",
       "  28.635642126552707,\n",
       "  13.601470508735444,\n",
       "  52.81098370604357,\n",
       "  55.54277630799526,\n",
       "  8.0,\n",
       "  0.0,\n",
       "  4.47213595499958,\n",
       "  11.180339887498949,\n",
       "  48.76474136094644],\n",
       " [14.142135623730951,\n",
       "  33.1058907144937,\n",
       "  17.0,\n",
       "  56.08029957123981,\n",
       "  59.033888572581766,\n",
       "  7.211102550927978,\n",
       "  4.47213595499958,\n",
       "  0.0,\n",
       "  15.0,\n",
       "  48.84669896727925],\n",
       " [26.92582403567252,\n",
       "  20.518284528683193,\n",
       "  16.55294535724685,\n",
       "  52.3450093132096,\n",
       "  54.12947441089743,\n",
       "  12.529964086141668,\n",
       "  11.180339887498949,\n",
       "  15.0,\n",
       "  0.0,\n",
       "  56.4003546088143],\n",
       " [36.138621999185304,\n",
       "  57.982756057296896,\n",
       "  40.36087214122113,\n",
       "  40.607881008493905,\n",
       "  45.70557952810576,\n",
       "  55.94640292279746,\n",
       "  48.76474136094644,\n",
       "  48.84669896727925,\n",
       "  56.4003546088143,\n",
       "  0.0]]"
      ]
     },
     "execution_count": 111,
     "metadata": {},
     "output_type": "execute_result"
    }
   ],
   "source": [
    "res"
   ]
  },
  {
   "cell_type": "code",
   "execution_count": null,
   "metadata": {},
   "outputs": [],
   "source": []
  },
  {
   "cell_type": "code",
   "execution_count": null,
   "metadata": {},
   "outputs": [],
   "source": []
  },
  {
   "cell_type": "code",
   "execution_count": null,
   "metadata": {},
   "outputs": [],
   "source": []
  },
  {
   "cell_type": "code",
   "execution_count": null,
   "metadata": {},
   "outputs": [],
   "source": []
  }
 ],
 "metadata": {
  "kernelspec": {
   "display_name": "Python 3",
   "language": "python",
   "name": "python3"
  },
  "language_info": {
   "codemirror_mode": {
    "name": "ipython",
    "version": 3
   },
   "file_extension": ".py",
   "mimetype": "text/x-python",
   "name": "python",
   "nbconvert_exporter": "python",
   "pygments_lexer": "ipython3",
   "version": "3.6.4"
  }
 },
 "nbformat": 4,
 "nbformat_minor": 2
}
